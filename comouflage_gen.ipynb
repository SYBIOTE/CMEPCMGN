{
  "nbformat": 4,
  "nbformat_minor": 0,
  "metadata": {
    "colab": {
      "name": "comouflage_gen.ipynb",
      "provenance": [],
      "collapsed_sections": [
        "xdMM2tMtOfWa",
        "jPTq9OjvOYKp",
        "i1rCrVad-iJU"
      ],
      "toc_visible": true,
      "include_colab_link": true
    },
    "kernelspec": {
      "name": "python3",
      "display_name": "Python 3"
    }
  },
  "cells": [
    {
      "cell_type": "markdown",
      "metadata": {
        "id": "view-in-github",
        "colab_type": "text"
      },
      "source": [
        "<a href=\"https://colab.research.google.com/github/SYBIOTE/CMEPCMGN/blob/main/comouflage_gen.ipynb\" target=\"_parent\"><img src=\"https://colab.research.google.com/assets/colab-badge.svg\" alt=\"Open In Colab\"/></a>"
      ]
    },
    {
      "cell_type": "markdown",
      "metadata": {
        "id": "1FjhAt2PFC8_"
      },
      "source": [
        "#repositories"
      ]
    },
    {
      "cell_type": "code",
      "metadata": {
        "id": "Kqpnm_gyFOFa"
      },
      "source": [
        "!git clone https://github.com/akisatok/pySaliencyMap\n",
        "!git clone https://github.com/SYBIOTE/camogen\n",
        "!git clone https://github.com/matterport/Mask_RCNN"
      ],
      "execution_count": null,
      "outputs": []
    },
    {
      "cell_type": "markdown",
      "metadata": {
        "id": "FJUiRzo6Ob4r"
      },
      "source": [
        "#installation"
      ]
    },
    {
      "cell_type": "code",
      "metadata": {
        "id": "G6ax7X75POWj"
      },
      "source": [
        "pip install Mask_RCNN/"
      ],
      "execution_count": null,
      "outputs": []
    },
    {
      "cell_type": "code",
      "metadata": {
        "id": "vFXdtTaXCmKU"
      },
      "source": [
        "pip install /content/camogen"
      ],
      "execution_count": null,
      "outputs": []
    },
    {
      "cell_type": "markdown",
      "metadata": {
        "id": "wekIGbrB_i4t"
      },
      "source": [
        "# image path \n",
        "\n"
      ]
    },
    {
      "cell_type": "code",
      "metadata": {
        "id": "fIstxC3V_n8H"
      },
      "source": [
        "IMAGE_PATH = \"/content/Unknown.jpeg\""
      ],
      "execution_count": null,
      "outputs": []
    },
    {
      "cell_type": "markdown",
      "metadata": {
        "id": "VwPfhNXIi8Ko"
      },
      "source": [
        "# RCNN and detection"
      ]
    },
    {
      "cell_type": "code",
      "metadata": {
        "id": "uepIQKidjG7i"
      },
      "source": [
        "%tensorflow_version 1.x"
      ],
      "execution_count": null,
      "outputs": []
    },
    {
      "cell_type": "code",
      "metadata": {
        "id": "aTS1cgTOQXrI"
      },
      "source": [
        "\n",
        "import os\n",
        "import sys\n",
        "import random\n",
        "import math\n",
        "import numpy as np\n",
        "import skimage.io\n",
        "import matplotlib\n",
        "import matplotlib.pyplot as plt\n",
        "\n",
        "# Root directory of the project\n",
        "ROOT_DIR = os.path.abspath(\"/content/Mask_RCNN/\")\n",
        "\n",
        "# Import Mask RCNN\n",
        "sys.path.append(ROOT_DIR)  # To find local version of the library\n",
        "from mrcnn import utils\n",
        "import mrcnn.model as modellib\n",
        "from mrcnn import visualize\n",
        "# Import COCO config\n",
        "sys.path.append(os.path.join(ROOT_DIR, \"samples/coco/\"))  # To find local version\n",
        "import coco\n",
        "\n",
        "%matplotlib inline \n",
        "\n",
        "# Directory to save logs and trained model\n",
        "MODEL_DIR = os.path.join(ROOT_DIR, \"logs\")\n",
        "\n",
        "# Local path to trained weights file\n",
        "COCO_MODEL_PATH = os.path.join(ROOT_DIR, \"mask_rcnn_coco.h5\")\n",
        "# Download COCO trained weights from Releases if needed\n",
        "if not os.path.exists(COCO_MODEL_PATH):\n",
        "    utils.download_trained_weights(COCO_MODEL_PATH)\n",
        "\n",
        "# Directory of images to run detection on\n",
        "IMAGE_DIR = os.path.join(ROOT_DIR, \"images\")"
      ],
      "execution_count": null,
      "outputs": []
    },
    {
      "cell_type": "code",
      "metadata": {
        "id": "bRtkGdLlQX5i"
      },
      "source": [
        "class InferenceConfig(coco.CocoConfig):\n",
        "    # Set batch size to 1 since we'll be running inference on\n",
        "    # one image at a time. Batch size = GPU_COUNT * IMAGES_PER_GPU\n",
        "    GPU_COUNT = 1\n",
        "    IMAGES_PER_GPU = 1\n",
        "\n",
        "config = InferenceConfig()\n",
        "config.display()"
      ],
      "execution_count": null,
      "outputs": []
    },
    {
      "cell_type": "code",
      "metadata": {
        "id": "3njdGJHeV3q-"
      },
      "source": [
        "# Create model object in inference mode.\n",
        "model = modellib.MaskRCNN(mode=\"inference\", model_dir=MODEL_DIR, config=config)\n",
        "\n",
        "# Load weights trained on MS-COCO\n",
        "model.load_weights(COCO_MODEL_PATH, by_name=True)"
      ],
      "execution_count": null,
      "outputs": []
    },
    {
      "cell_type": "code",
      "metadata": {
        "id": "t-lsQDxfWB1e"
      },
      "source": [
        "class_names = ['BG', 'person', 'bicycle', 'car', 'motorcycle', 'airplane',\n",
        "               'bus', 'train', 'truck', 'boat', 'traffic light',\n",
        "               'fire hydrant', 'stop sign', 'parking meter', 'bench', 'bird',\n",
        "               'cat', 'dog', 'horse', 'sheep', 'cow', 'elephant', 'bear',\n",
        "               'zebra', 'giraffe', 'backpack', 'umbrella', 'handbag', 'tie',\n",
        "               'suitcase', 'frisbee', 'skis', 'snowboard', 'sports ball',\n",
        "               'kite', 'baseball bat', 'baseball glove', 'skateboard',\n",
        "               'surfboard', 'tennis racket', 'bottle', 'wine glass', 'cup',\n",
        "               'fork', 'knife', 'spoon', 'bowl', 'banana', 'apple',\n",
        "               'sandwich', 'orange', 'broccoli', 'carrot', 'hot dog', 'pizza',\n",
        "               'donut', 'cake', 'chair', 'couch', 'potted plant', 'bed',\n",
        "               'dining table', 'toilet', 'tv', 'laptop', 'mouse', 'remote',\n",
        "               'keyboard', 'cell phone', 'microwave', 'oven', 'toaster',\n",
        "               'sink', 'refrigerator', 'book', 'clock', 'vase', 'scissors',\n",
        "               'teddy bear', 'hair drier', 'toothbrush']\n"
      ],
      "execution_count": null,
      "outputs": []
    },
    {
      "cell_type": "code",
      "metadata": {
        "id": "N7bC7y5IWFht"
      },
      "source": [
        "image = skimage.io.imread(IMAGE_PATH)\n",
        "\n",
        "# Run detection\n",
        "results = model.detect([image], verbose=1)\n",
        "\n",
        "# Visualize results\n",
        "r = results[0]\n",
        "visualize.display_instances(image, r['rois'], r['masks'], r['class_ids'], \n",
        "                            class_names, r['scores'])"
      ],
      "execution_count": null,
      "outputs": []
    },
    {
      "cell_type": "markdown",
      "metadata": {
        "id": "19NIPSH6tmnF"
      },
      "source": [
        "# mask and filtering"
      ]
    },
    {
      "cell_type": "code",
      "metadata": {
        "id": "qbQXE-VCtz-G"
      },
      "source": [
        "plt.imshow(image)\n",
        "plt.title(\"original\")\n",
        "filtered = image.copy()\n",
        "cropped = image.copy()"
      ],
      "execution_count": null,
      "outputs": []
    },
    {
      "cell_type": "markdown",
      "metadata": {
        "id": "xdMM2tMtOfWa"
      },
      "source": [
        "### Remove Single Object"
      ]
    },
    {
      "cell_type": "code",
      "metadata": {
        "id": "blMo3mTJJ4JZ"
      },
      "source": [
        "i = 0 # i is the id of one particuar mask \n",
        "mask = r[\"masks\"][:,:,i]\n",
        "for j in range(cropped.shape[2]):\n",
        "    cropped[:,:,j] = image[:,:,j] * mask[:,:]\n",
        "    filtered[:,:,j] = image[:,:,j] - cropped[:,:,j]\n",
        "plt.imshow(cropped)\n",
        "plt.title(\"cropped\")"
      ],
      "execution_count": null,
      "outputs": []
    },
    {
      "cell_type": "code",
      "metadata": {
        "id": "uF-WTS20t8DI"
      },
      "source": [
        "plt.imshow(filtered)\n",
        "plt.title(\"filtered\")"
      ],
      "execution_count": null,
      "outputs": []
    },
    {
      "cell_type": "markdown",
      "metadata": {
        "id": "jPTq9OjvOYKp"
      },
      "source": [
        "### Remove Multi Object "
      ]
    },
    {
      "cell_type": "code",
      "metadata": {
        "id": "r6tP9imbKu4X"
      },
      "source": [
        "\n",
        "mask = r[\"masks\"][:,:,0]\n",
        "for i in range(1,r[\"masks\"].shape[2]):\n",
        "    mask += r[\"masks\"][:,:,i]\n",
        "for j in range(filtered.shape[2]):\n",
        "  filtered[:,:,j] = image[:,:,j] - image[:,:,j] * mask\n",
        "plt.imshow(filtered)\n",
        "plt.title(\"filtered\")\n"
      ],
      "execution_count": null,
      "outputs": []
    },
    {
      "cell_type": "markdown",
      "metadata": {
        "id": "73vdQhEZGmKf"
      },
      "source": [
        "# Color Extraction"
      ]
    },
    {
      "cell_type": "markdown",
      "metadata": {
        "id": "m5yYAx3cjWD_"
      },
      "source": [
        "## load image"
      ]
    },
    {
      "cell_type": "code",
      "metadata": {
        "id": "zb7wrWPHIMVr"
      },
      "source": [
        "import numpy as np\n",
        "from matplotlib import pyplot as plt\n",
        "import cv2\n",
        "from sklearn.cluster import KMeans\n",
        "from sklearn.cluster import MiniBatchKMeans\n",
        "from sklearn.cluster import SpectralClustering"
      ],
      "execution_count": null,
      "outputs": []
    },
    {
      "cell_type": "code",
      "metadata": {
        "id": "GK3D7Ccr-0Wl"
      },
      "source": [
        "dominant_color = 5\n",
        "hexadecimal_color_minibatch_kmean = []\n",
        "hexadecimal_color_kmean = []\n",
        "score_minibatch = []\n",
        "score = []"
      ],
      "execution_count": null,
      "outputs": []
    },
    {
      "cell_type": "code",
      "metadata": {
        "id": "47C3y_OoNoPP"
      },
      "source": [
        "img = filtered\n",
        "\n",
        "x_end , y_end = img.shape[0:2]\n",
        "print(img.shape)\n",
        "\n",
        "plt.imshow(img ,extent=[0,y_end,x_end,0])"
      ],
      "execution_count": null,
      "outputs": []
    },
    {
      "cell_type": "code",
      "metadata": {
        "id": "4yfItQEAfIFf"
      },
      "source": [
        "# img = cv2.cvtColor(img,cv2.COLOR_BGR2RGB)\n",
        "plt.imshow(img , extent=[0,y_end,x_end,0])"
      ],
      "execution_count": null,
      "outputs": []
    },
    {
      "cell_type": "code",
      "metadata": {
        "id": "7sXt76FXOota"
      },
      "source": [
        "original_pixel = img.shape\n",
        "print(original_pixel)"
      ],
      "execution_count": null,
      "outputs": []
    },
    {
      "cell_type": "code",
      "metadata": {
        "id": "HTbusjZ5O2UU"
      },
      "source": [
        "pixel = img.reshape((x_end*y_end , 3))\n",
        "print(pixel.shape)"
      ],
      "execution_count": null,
      "outputs": []
    },
    {
      "cell_type": "markdown",
      "metadata": {
        "id": "kfvYovMV-elA"
      },
      "source": [
        "## K-means minibatch"
      ]
    },
    {
      "cell_type": "code",
      "metadata": {
        "id": "Hd8y06gq-aKr"
      },
      "source": [
        "%%time\n",
        "km = MiniBatchKMeans( n_clusters = dominant_color)\n",
        "km.fit(pixel)"
      ],
      "execution_count": null,
      "outputs": []
    },
    {
      "cell_type": "code",
      "metadata": {
        "id": "1Gjb1-IF_OTI"
      },
      "source": [
        "minibatch_centers = km.cluster_centers_\n",
        "# A uint8 data type contains all whole numbers from 0 to 255.\n",
        "minibatch_centers = np.array(minibatch_centers , dtype='uint8')\n",
        "avg = [0,0,0]\n",
        "for x in minibatch_centers:\n",
        "    if not (x[0]==x[1]==x[2]==0):\n",
        "      avg += (x/len(minibatch_centers)-1)\n",
        "print(avg)\n",
        "for x in minibatch_centers:\n",
        "    if (x[0]==x[1]==x[2]==0):\n",
        "      minibatch_centers= avg\n",
        "\n",
        "\n",
        "print(minibatch_centers)\n",
        "hexadecimal_color_minibatch_kmean.clear()\n",
        "for array in minibatch_centers:\n",
        "  hexadecimal_color_minibatch_kmean.append( '#%02x%02x%02x' % (array[0], array[1], array[2]) )\n",
        "\n",
        "print(hexadecimal_color_minibatch_kmean)\n",
        "#Plotting these colors\n",
        "\n",
        "i =1\n",
        "plt.figure(0,figsize=(8,2))\n",
        "\n",
        "\n",
        "color = []\n",
        "for x in minibatch_centers:\n",
        "    plt.subplot(1,5,i)\n",
        "    plt.axis(\"off\")\n",
        "    i+=1\n",
        "    color.append(x)\n",
        "    a = np.zeros((100,100,3),dtype='uint8')\n",
        "    a[:,:,:] = x\n",
        "    plt.imshow(a)\n",
        "\n",
        "plt.show()\n",
        "\n"
      ],
      "execution_count": null,
      "outputs": []
    },
    {
      "cell_type": "code",
      "metadata": {
        "id": "MxrKuudgFB8l"
      },
      "source": [
        "%%time\n",
        "score_minibatch.clear()\n",
        "for i in range(dominant_color):\n",
        "  sum=0\n",
        "  for j in km.labels_:\n",
        "    if(i == j):\n",
        "      sum += 1\n",
        "  score_minibatch.append(sum/len(km.labels_))\n",
        "\n",
        "print(score_minibatch)\n",
        "print(hexadecimal_color_minibatch_kmean)\n"
      ],
      "execution_count": null,
      "outputs": []
    },
    {
      "cell_type": "markdown",
      "metadata": {
        "id": "i1rCrVad-iJU"
      },
      "source": [
        "### forward"
      ]
    },
    {
      "cell_type": "code",
      "metadata": {
        "id": "tK7SMyKjPpHc"
      },
      "source": [
        "centers = km.cluster_centers_\n",
        "# A uint8 data type contains all whole numbers from 0 to 255.\n",
        "centers = np.array(centers , dtype='uint8')\n",
        "print(\"After : \",centers)"
      ],
      "execution_count": null,
      "outputs": []
    },
    {
      "cell_type": "code",
      "metadata": {
        "id": "YL9S_Nj7jh1-"
      },
      "source": [
        "for array in centers:\n",
        "  hexadecimal_color_kmean.append( '#%02x%02x%02x' % (array[0], array[1], array[2]) )\n"
      ],
      "execution_count": null,
      "outputs": []
    },
    {
      "cell_type": "code",
      "metadata": {
        "id": "9DuVZpn3_gmY"
      },
      "source": [
        "hexadecimal_color_kmean"
      ],
      "execution_count": null,
      "outputs": []
    },
    {
      "cell_type": "code",
      "metadata": {
        "id": "G-ZrDvAIPo1T"
      },
      "source": [
        "\n",
        "#Plotting these colors\n",
        "\n",
        "i =1\n",
        "plt.figure(0,figsize=(8,2))\n",
        "\n",
        "\n",
        "color = []\n",
        "for x in centers:\n",
        "    plt.subplot(1,5,i)\n",
        "    plt.axis(\"off\")\n",
        "    i+=1\n",
        "    color.append(x)\n",
        "    \n",
        "    a = np.zeros((100,100,3),dtype='uint8')\n",
        "    a[:,:,:] = x\n",
        "    plt.imshow(a)\n",
        "plt.show()\n",
        "\n"
      ],
      "execution_count": null,
      "outputs": []
    },
    {
      "cell_type": "code",
      "metadata": {
        "id": "5gvdAhfhR23y"
      },
      "source": [
        "%%time\n",
        "score = []\n",
        "for i in range(dominant_color):\n",
        "  sum=0\n",
        "  for j in km.labels_:\n",
        "    if(i == j):\n",
        "      sum += 1\n",
        "  score.append(sum/len(km.labels_))\n",
        "\n",
        "print(score)"
      ],
      "execution_count": null,
      "outputs": []
    },
    {
      "cell_type": "code",
      "metadata": {
        "id": "sP4blCxqR2uM"
      },
      "source": [
        "# segmenting the original image\n",
        "new_pixel = np.zeros((x_end*y_end , 3))\n",
        "\n",
        "color "
      ],
      "execution_count": null,
      "outputs": []
    },
    {
      "cell_type": "code",
      "metadata": {
        "id": "Oud6NQNuR2nc"
      },
      "source": [
        "km.labels_"
      ],
      "execution_count": null,
      "outputs": []
    },
    {
      "cell_type": "code",
      "metadata": {
        "id": "m6jDZwCkR2eQ"
      },
      "source": [
        "for i in range(new_pixel.shape[0]):\n",
        "  new_pixel[i] = color[km.labels_[i]]\n",
        "\n",
        "new_pixel = new_pixel.reshape(original_pixel)"
      ],
      "execution_count": null,
      "outputs": []
    },
    {
      "cell_type": "code",
      "metadata": {
        "id": "-5oWVTuuTFZ5"
      },
      "source": [
        "plt.imshow(img ,extent=[0,y_end,x_end,0])\n",
        "plt.title(\"Before segmentation\")\n",
        "plt.show()"
      ],
      "execution_count": null,
      "outputs": []
    },
    {
      "cell_type": "code",
      "metadata": {
        "id": "X-TaYSXfTme5"
      },
      "source": [
        "new_pixel /= 255"
      ],
      "execution_count": null,
      "outputs": []
    },
    {
      "cell_type": "code",
      "metadata": {
        "id": "j4Cg5d0xTFSA"
      },
      "source": [
        "plt.imshow(new_pixel , extent=[0,y_end,x_end,0])\n",
        "plt.title(\"After Segmentation\")\n",
        "plt.show()"
      ],
      "execution_count": null,
      "outputs": []
    },
    {
      "cell_type": "code",
      "metadata": {
        "id": "BCtGKNKuoByf"
      },
      "source": [
        "new_pixel"
      ],
      "execution_count": null,
      "outputs": []
    },
    {
      "cell_type": "code",
      "metadata": {
        "id": "bnQVRdqPE6fV"
      },
      "source": [
        "# gives error avoid for now\n",
        "from PIL import Image\n",
        "im = Image.fromarray((new_pixel * 255).astype(np.uint8))\n",
        "plt.imshow(im)"
      ],
      "execution_count": null,
      "outputs": []
    },
    {
      "cell_type": "markdown",
      "metadata": {
        "id": "KonM2D1vteT4"
      },
      "source": [
        "#Camogen"
      ]
    },
    {
      "cell_type": "code",
      "metadata": {
        "id": "f9lDl-XQvBe7"
      },
      "source": [
        "yp = hexadecimal_color_minibatch_kmean\n",
        "hexadecimal_color_minibatch_kmean = []\n",
        "for i in yp:\n",
        "   if i == '#dbe1d9':\n",
        "     pass\n",
        "   else:\n",
        "     hexadecimal_color_minibatch_kmean.append(i)"
      ],
      "execution_count": null,
      "outputs": []
    },
    {
      "cell_type": "code",
      "metadata": {
        "id": "bsSilrHtCZeJ"
      },
      "source": [
        "import camogen\n",
        "import matplotlib.pyplot as plt\n",
        "from camogen.generate import generate\n",
        "\n",
        "\n",
        "parameters = {'width': 100, 'height': 100, 'polygon_size': 50, 'color_bleed': 1,'max_depth':8,\n",
        "              'colors': hexadecimal_color_minibatch_kmean,\n",
        "              'spots': {'amount': 200000, 'radius': {'min': 1, 'max': 10}, 'sampling_variation': 5},\n",
        "              'pixelize': {'percentage': 1, 'sampling_variation': 50, 'density': {'x': 100, 'y': 100}}}\n",
        "camo_pattern = generate(parameters)\n",
        "plt.imshow(camo_pattern)\n",
        "# camo_pattern.save('/content/camogen/images/genrated.png')"
      ],
      "execution_count": null,
      "outputs": []
    },
    {
      "cell_type": "markdown",
      "metadata": {
        "id": "59hqm5qcu_bC"
      },
      "source": [
        "#pattern overlappping"
      ]
    },
    {
      "cell_type": "code",
      "metadata": {
        "id": "ANGDmVoR9zGP"
      },
      "source": [
        "# a = np.array(filtered)\n",
        "# b = np.array(camo_pattern)\n",
        "# for c in range(a.shape[2]):\n",
        "#   for j in range(a.shape[1]):\n",
        "#     for r in range(a.shape[0]):\n",
        "#       if r == 0:\n",
        "#         a[r,j,c] = camo_pattern[r,j,c]\n",
        "\n"
      ],
      "execution_count": null,
      "outputs": []
    },
    {
      "cell_type": "code",
      "metadata": {
        "id": "pzNCKpcfCGNB"
      },
      "source": [
        "import PIL\n",
        "from PIL import Image\n",
        "import requests\n",
        "from io import BytesIO\n",
        "from PIL import ImageFilter\n",
        "from PIL import ImageEnhance\n",
        "from IPython.display import display\n",
        "import numpy as np\n",
        "\n",
        "\n",
        "pil_filtered = Image.fromarray(filtered)\n",
        "pil_camo = Image.fromarray(np.array(camo_pattern))\n",
        "\n",
        "pil_filtered"
      ],
      "execution_count": null,
      "outputs": []
    },
    {
      "cell_type": "code",
      "metadata": {
        "id": "UeKlof0PuVz_"
      },
      "source": [
        " pil_filtered.size , pil_camo.size"
      ],
      "execution_count": null,
      "outputs": []
    },
    {
      "cell_type": "code",
      "metadata": {
        "id": "_446GPaPDcDo"
      },
      "source": [
        "width, height = pil_filtered.size\n",
        "camo_w, camo_h = pil_camo.size\n",
        "camo_w, camo_h = camo_w//2, camo_h//2\n",
        "for j in range(height):\n",
        "  for r in range(width):\n",
        "    rgb_values = pil_filtered.getpixel((r,j))\n",
        "    if 0 in rgb_values:\n",
        "      '''\n",
        "      l = r\n",
        "      k = j\n",
        "      if l > camo_h or k > camo_w:\n",
        "        l = random.randint(0,camo_w)\n",
        "        k = random.randint(0,camo_h)\n",
        "        '''\n",
        "      l = r%camo_w\n",
        "      k = j%camo_h\n",
        "      pil_filtered.putpixel( (r,j), pil_camo.getpixel((l,k)))\n",
        "     \n",
        "pil_filtered"
      ],
      "execution_count": null,
      "outputs": []
    },
    {
      "cell_type": "markdown",
      "metadata": {
        "id": "lyubtHFz-8jB"
      },
      "source": [
        "# Effectiveness check"
      ]
    },
    {
      "cell_type": "markdown",
      "metadata": {
        "id": "hz6JS5Nn_ElU"
      },
      "source": [
        "## detection test"
      ]
    },
    {
      "cell_type": "code",
      "metadata": {
        "id": "RqM4RDQfGmRI"
      },
      "source": [
        "pix = np.array(pil_filtered)"
      ],
      "execution_count": null,
      "outputs": []
    },
    {
      "cell_type": "code",
      "metadata": {
        "id": "vQlCBU10GT-E"
      },
      "source": [
        "test = model.detect([pix], verbose=1)"
      ],
      "execution_count": null,
      "outputs": []
    },
    {
      "cell_type": "code",
      "metadata": {
        "id": "2nHkynmVGytL"
      },
      "source": [
        "# Visualize results\n",
        "t = test[0]\n",
        "visualize.display_instances(pix, t['rois'], t['masks'], t['class_ids'], \n",
        "                            class_names, t['scores'])"
      ],
      "execution_count": null,
      "outputs": []
    },
    {
      "cell_type": "markdown",
      "metadata": {
        "id": "1wVrUpruWPxm"
      },
      "source": [
        "## saliency map\n",
        "\n"
      ]
    },
    {
      "cell_type": "code",
      "metadata": {
        "id": "ZnZaLeV17ZXS"
      },
      "source": [
        "cd pySaliencyMap/                "
      ],
      "execution_count": null,
      "outputs": []
    },
    {
      "cell_type": "code",
      "metadata": {
        "id": "KKmn717_xCVy"
      },
      "source": [
        "import cv2\n",
        "import matplotlib.pyplot as plt\n",
        "import pySaliencyMap\n",
        "\n",
        "MIN_W = 352\n",
        "MIN_H = 256\n",
        "print(pix.shape)\n",
        "multiplier = 1\n",
        "stepsize = .1\n",
        "while True:\n",
        "    if (multiplier> MIN_W/pix.shape[1] and multiplier> MIN_H/pix.shape[0]):\n",
        "      break;\n",
        "    else:\n",
        "        multiplier+=stepsize\n",
        "print(multiplier)\n",
        "req_w,req_h = int(pix.shape[1]*multiplier),int(pix.shape[0]*multiplier)\n",
        "pix = cv2.resize(pix, dsize=(req_w,req_h), interpolation=cv2.INTER_CUBIC)\n",
        "imgsize = pix.shape\n",
        "img_width  = imgsize[1]\n",
        "img_height = imgsize[0]\n",
        "print(img_width,img_height)\n",
        "sm = pySaliencyMap.pySaliencyMap(img_width, img_height)\n",
        "\n",
        "# computation\n",
        "saliency_map = sm.SMGetSM(pix)\n",
        "binarized_map = sm.SMGetBinarizedSM(pix)\n",
        "salient_region = sm.SMGetSalientRegion(pix)\n",
        "# visualize\n",
        "\n",
        "plt.figure(figsize=[18,12])\n",
        "plt.subplot(2,2,1), plt.imshow(pix)\n",
        "plt.title('Input image')\n",
        "plt.subplot(2,2,2), plt.imshow(saliency_map, 'gray')\n",
        "plt.title('Saliency map')\n",
        "plt.subplot(2,2,3), plt.imshow(binarized_map)\n",
        "plt.title('Binarilized saliency map')\n",
        "plt.subplot(2,2,4), plt.imshow(cv2.cvtColor(salient_region, cv2.COLOR_BGR2RGB))\n",
        "plt.title('Salient region')\n",
        "\n",
        "plt.show()"
      ],
      "execution_count": null,
      "outputs": []
    }
  ]
}